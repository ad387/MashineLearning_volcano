{
 "cells": [
  {
   "cell_type": "code",
   "execution_count": 1,
   "metadata": {
    "collapsed": true
   },
   "outputs": [],
   "source": [
    "import numpy as np\n",
    "import matplotlib.pylab as plt"
   ]
  },
  {
   "cell_type": "code",
   "execution_count": 185,
   "metadata": {
    "collapsed": true
   },
   "outputs": [],
   "source": [
    "def get_correlation_with_time_delay(Arr1,Arr2,TimeSpann,deltaT=1):\n",
    "    prov_corr = 0\n",
    "    for i in range(-TimeSpann/deltaT,TimeSpann/deltaT):\n",
    "  \n",
    "        Arr1_new,Arr2_new = time_shift_sequences(Arr1[:],Arr2[:], i*deltaT)\n",
    "\n",
    "        cor = getCorrelation(Arr1_new,Arr2_new)\n",
    "\n",
    "        if abs(prov_corr)<abs(cor):\n",
    "            prov_corr = cor\n",
    "            pov_deltatime = i*deltaT\n",
    "    \n",
    "    return prov_corr, pov_deltatime\n",
    "        \n",
    "        "
   ]
  },
  {
   "cell_type": "code",
   "execution_count": 186,
   "metadata": {
    "collapsed": true
   },
   "outputs": [],
   "source": [
    "def getCorrelation(X,Y):\n",
    "    \n",
    "        cor = np.zeros((2,len(X)))\n",
    "\n",
    "        cor[0] = X[:]\n",
    "        cor[1] = Y[:]\n",
    "        c = np.corrcoef(cor)\n",
    "\n",
    "        return c[0][1]"
   ]
  },
  {
   "cell_type": "code",
   "execution_count": 187,
   "metadata": {
    "collapsed": false
   },
   "outputs": [],
   "source": [
    "def time_shift_sequences(seq1, seq2, delta_t):\n",
    "    \"\"\"\n",
    "    Apply a time shift of delta_t to two sequeces\n",
    "    \"\"\"\n",
    "    \n",
    "    if delta_t > 0:\n",
    "        seq1_new = seq1[delta_t:]\n",
    "        seq2_new = seq2[:-delta_t]\n",
    "        \n",
    "    if delta_t < 0:\n",
    "        seq1_new = seq1[:delta_t]\n",
    "        seq2_new = seq2[-delta_t:]\n",
    "        \n",
    "    if  delta_t == 0:\n",
    "        seq1_new = seq1[:]\n",
    "        seq2_new = seq2[:]\n",
    "    \n",
    "    return seq1_new, seq2_new"
   ]
  },
  {
   "cell_type": "code",
   "execution_count": 199,
   "metadata": {
    "collapsed": false
   },
   "outputs": [],
   "source": [
    "Arr1 = np.ones(100)\n",
    "Arr2 = np.ones(100)"
   ]
  },
  {
   "cell_type": "code",
   "execution_count": 200,
   "metadata": {
    "collapsed": true
   },
   "outputs": [],
   "source": [
    "n=30\n",
    "m=50\n",
    "j=1\n",
    "for i in range(10):\n",
    "    Arr1[n+i]=Arr1[n+i]+j\n",
    "    Arr2[m+i]=Arr2[m+i]+j\n",
    "    j=j+1\n",
    "for i in range(10):\n",
    "    Arr1[n+10+i]=Arr1[n+10+i]+j\n",
    "    Arr2[m+10+i]=Arr2[m+10+i]+j\n",
    "    j=j-1    "
   ]
  },
  {
   "cell_type": "code",
   "execution_count": null,
   "metadata": {
    "collapsed": true
   },
   "outputs": [],
   "source": []
  },
  {
   "cell_type": "code",
   "execution_count": 201,
   "metadata": {
    "collapsed": true
   },
   "outputs": [],
   "source": [
    "TimeSpann = 30\n",
    "deltaT = 2"
   ]
  },
  {
   "cell_type": "code",
   "execution_count": 202,
   "metadata": {
    "collapsed": false
   },
   "outputs": [],
   "source": [
    "seq1_new, seq2_new = time_shift_sequences(Arr1,Arr2, 20)"
   ]
  },
  {
   "cell_type": "code",
   "execution_count": 203,
   "metadata": {
    "collapsed": false
   },
   "outputs": [],
   "source": [
    "prov_corr, pov_deltatime = get_correlation_with_time_delay(Arr1,Arr2,TimeSpann,deltaT)"
   ]
  },
  {
   "cell_type": "code",
   "execution_count": 204,
   "metadata": {
    "collapsed": false
   },
   "outputs": [
    {
     "name": "stdout",
     "output_type": "stream",
     "text": [
      "1.0 -20\n"
     ]
    }
   ],
   "source": [
    "print prov_corr, pov_deltatime"
   ]
  },
  {
   "cell_type": "code",
   "execution_count": null,
   "metadata": {
    "collapsed": true
   },
   "outputs": [],
   "source": []
  }
 ],
 "metadata": {
  "kernelspec": {
   "display_name": "Python [Root]",
   "language": "python",
   "name": "Python [Root]"
  },
  "language_info": {
   "codemirror_mode": {
    "name": "ipython",
    "version": 2
   },
   "file_extension": ".py",
   "mimetype": "text/x-python",
   "name": "python",
   "nbconvert_exporter": "python",
   "pygments_lexer": "ipython2",
   "version": "2.7.12"
  }
 },
 "nbformat": 4,
 "nbformat_minor": 0
}
