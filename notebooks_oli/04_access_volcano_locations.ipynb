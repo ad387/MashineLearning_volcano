{
 "cells": [
  {
   "cell_type": "code",
   "execution_count": 1,
   "metadata": {
    "collapsed": false,
    "deletable": true,
    "editable": true,
    "scrolled": true
   },
   "outputs": [
    {
     "name": "stdout",
     "output_type": "stream",
     "text": [
      "Populating the interactive namespace from numpy and matplotlib\n"
     ]
    }
   ],
   "source": [
    "%load_ext autoreload\n",
    "%autoreload 2\n",
    "\n",
    "import os\n",
    "os.chdir(\"../\")\n",
    "\n",
    "%pylab inline\n",
    "pylab.rcParams['figure.figsize'] = (10, 5)"
   ]
  },
  {
   "cell_type": "markdown",
   "metadata": {
    "deletable": true,
    "editable": true
   },
   "source": [
    "# get volcano locs"
   ]
  },
  {
   "cell_type": "code",
   "execution_count": 7,
   "metadata": {
    "collapsed": false,
    "deletable": true,
    "editable": true
   },
   "outputs": [],
   "source": [
    "locs = {\n",
    "\"Arenal\" : (10.462964, -84.703694),\n",
    "\"Turrialba\" : (10.016997, -83.764515),\n",
    "\"Santa Ana\" : (13.854698, -89.627554),\n",
    "\"San Miguel\" : (13.433799, -88.268887),\n",
    "\"Fuego de Guatemala\" : (14.474506, -90.880327),\n",
    "\"Santiaguito\" : (14.749341, -91.566770),\n",
    "\"Popocatepetl\" : (19.022154, -98.627748),\n",
    "\"Fuego de Colima\" : (19.512942, -103.617655),\n",
    "\"San Cristobal\" : (12.704431, -87.003621),\n",
    "\"Masaya\" : (11.984259, -86.166345),\n",
    "\"Galeras\" : (1.221699, -77.358468),\n",
    "\"Nevado del Ruiz\" : (4.893614, -75.317858),\n",
    "\"Cotopaxi\" : (-0.683719, -78.436608),\n",
    "\"Tungurahua\" : (-1.470183, -78.444540),\n",
    "\"Nyiragongo\" : (-1.522102, 29.249768),\n",
    "\"Nyamuragira\" : (-1.410324, 29.204375),\n",
    "\"Etna\" : (37.751220, 14.994171),\n",
    "\"Vulcano\" : (38.403679, 14.962679),\n",
    "\"Piton de la Fournaise\" : (-21.245098, 55.715342)\n",
    "}"
   ]
  },
  {
   "cell_type": "code",
   "execution_count": 8,
   "metadata": {
    "collapsed": true
   },
   "outputs": [],
   "source": [
    "np.save(\"data_git/volcano_locations.npy\", locs)"
   ]
  },
  {
   "cell_type": "markdown",
   "metadata": {
    "deletable": true,
    "editable": true
   },
   "source": [
    "# get locs"
   ]
  },
  {
   "cell_type": "code",
   "execution_count": 2,
   "metadata": {
    "collapsed": false,
    "deletable": true,
    "editable": true
   },
   "outputs": [],
   "source": [
    "volc_locs = np.load(\"data_git/volcano_locations.npy\")[()]"
   ]
  }
 ],
 "metadata": {
  "kernelspec": {
   "display_name": "Python 2",
   "language": "python",
   "name": "python2"
  },
  "language_info": {
   "codemirror_mode": {
    "name": "ipython",
    "version": 2
   },
   "file_extension": ".py",
   "mimetype": "text/x-python",
   "name": "python",
   "nbconvert_exporter": "python",
   "pygments_lexer": "ipython2",
   "version": "2.7.12"
  }
 },
 "nbformat": 4,
 "nbformat_minor": 2
}
