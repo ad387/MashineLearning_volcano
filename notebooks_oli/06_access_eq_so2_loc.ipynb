{
 "cells": [
  {
   "cell_type": "code",
   "execution_count": 1,
   "metadata": {
    "collapsed": false,
    "deletable": true,
    "editable": true,
    "scrolled": true
   },
   "outputs": [
    {
     "name": "stdout",
     "output_type": "stream",
     "text": [
      "Populating the interactive namespace from numpy and matplotlib\n"
     ]
    }
   ],
   "source": [
    "%load_ext autoreload\n",
    "%autoreload 2\n",
    "\n",
    "import os\n",
    "os.chdir(\"../\")\n",
    "\n",
    "%pylab inline\n",
    "pylab.rcParams['figure.figsize'] = (10, 5)"
   ]
  },
  {
   "cell_type": "code",
   "execution_count": 2,
   "metadata": {
    "collapsed": false,
    "deletable": true,
    "editable": true
   },
   "outputs": [],
   "source": [
    "from data_earthquake import Earthquake\n",
    "from data_so2_sat import SO2_Sat"
   ]
  },
  {
   "cell_type": "markdown",
   "metadata": {
    "deletable": true,
    "editable": true
   },
   "source": [
    "# get volc locs"
   ]
  },
  {
   "cell_type": "code",
   "execution_count": 3,
   "metadata": {
    "collapsed": false,
    "deletable": true,
    "editable": true
   },
   "outputs": [],
   "source": [
    "volc_locs = np.load(\"data_git/volcano_locations.npy\")[()]"
   ]
  },
  {
   "cell_type": "code",
   "execution_count": 4,
   "metadata": {
    "collapsed": false,
    "deletable": true,
    "editable": true
   },
   "outputs": [
    {
     "name": "stdout",
     "output_type": "stream",
     "text": [
      "(13.433799, -88.268887) : \tSan Miguel\n",
      "(10.016997, -83.764515) : \tTurrialba\n",
      "(10.462964, -84.703694) : \tArenal\n",
      "(1.221699, -77.358468) : \tGaleras\n",
      "(4.893614, -75.317858) : \tNevado del Ruiz\n",
      "(19.022154, -98.627748) : \tPopocatepetl\n",
      "(-0.683719, -78.436608) : \tCotopaxi\n",
      "(14.474506, -90.880327) : \tFuego de Guatemala\n",
      "(-21.245098, 55.715342) : \tPiton de la Fournaise\n",
      "(13.854698, -89.627554) : \tSanta Ana\n",
      "(-1.470183, -78.44454) : \tTungurahua\n",
      "(19.512942, -103.617655) : \tFuego de Colima\n",
      "(12.704431, -87.003621) : \tSan Cristobal\n",
      "(38.403679, 14.962679) : \tVulcano\n",
      "(37.75122, 14.994171) : \tEtna\n",
      "(-1.410324, 29.204375) : \tNyamuragira\n",
      "(11.984259, -86.166345) : \tMasaya\n",
      "(-1.522102, 29.249768) : \tNyiragongo\n",
      "(14.749341, -91.56677) : \tSantiaguito\n"
     ]
    }
   ],
   "source": [
    "for volc in volc_locs:\n",
    "    print volc_locs[volc], \": \\t\", volc"
   ]
  },
  {
   "cell_type": "markdown",
   "metadata": {
    "deletable": true,
    "editable": true
   },
   "source": [
    "# get so2 / earthquake data"
   ]
  },
  {
   "cell_type": "code",
   "execution_count": 8,
   "metadata": {
    "collapsed": false,
    "deletable": true,
    "editable": true
   },
   "outputs": [
    {
     "name": "stdout",
     "output_type": "stream",
     "text": [
      "load events 'data_git/earthquakes/(-1.470183, -78.44454)_1.0_1.0.npy' ...\n",
      "loaded 120 events\n"
     ]
    }
   ],
   "source": [
    "loc = volc_locs['Tungurahua']\n",
    "t_beg = (2012, 1, 2)\n",
    "t_end = (2017, 1, 6)\n",
    "eq = Earthquake(loc, t_beg=t_beg, t_end=t_end)\n",
    "so2 = SO2_Sat(loc, t_beg=t_beg, t_end=t_end)"
   ]
  },
  {
   "cell_type": "code",
   "execution_count": 9,
   "metadata": {
    "collapsed": true,
    "deletable": true,
    "editable": true
   },
   "outputs": [],
   "source": [
    "eq_dates, eq_freq = eq.get_mean_frequency(time_interval=5)"
   ]
  },
  {
   "cell_type": "code",
   "execution_count": 10,
   "metadata": {
    "collapsed": false,
    "deletable": true,
    "editable": true
   },
   "outputs": [],
   "source": [
    "so2_dates = so2.dates\n",
    "so2_vals  = so2.so2_timeseq"
   ]
  },
  {
   "cell_type": "code",
   "execution_count": null,
   "metadata": {
    "collapsed": true
   },
   "outputs": [],
   "source": []
  }
 ],
 "metadata": {
  "kernelspec": {
   "display_name": "Python 2",
   "language": "python",
   "name": "python2"
  },
  "language_info": {
   "codemirror_mode": {
    "name": "ipython",
    "version": 2
   },
   "file_extension": ".py",
   "mimetype": "text/x-python",
   "name": "python",
   "nbconvert_exporter": "python",
   "pygments_lexer": "ipython2",
   "version": "2.7.12"
  }
 },
 "nbformat": 4,
 "nbformat_minor": 2
}
