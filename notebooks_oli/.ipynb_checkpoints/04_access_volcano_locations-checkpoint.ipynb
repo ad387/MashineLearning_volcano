{
 "cells": [
  {
   "cell_type": "code",
   "execution_count": 1,
   "metadata": {
    "collapsed": false,
    "deletable": true,
    "editable": true,
    "scrolled": true
   },
   "outputs": [
    {
     "name": "stdout",
     "output_type": "stream",
     "text": [
      "Populating the interactive namespace from numpy and matplotlib\n"
     ]
    }
   ],
   "source": [
    "%load_ext autoreload\n",
    "%autoreload 2\n",
    "\n",
    "import os\n",
    "os.chdir(\"../\")\n",
    "\n",
    "%pylab inline\n",
    "pylab.rcParams['figure.figsize'] = (10, 5)"
   ]
  },
  {
   "cell_type": "code",
   "execution_count": 3,
   "metadata": {
    "collapsed": false,
    "deletable": true,
    "editable": true
   },
   "outputs": [],
   "source": [
    "import data_volcano_meta\n",
    "from data_so2_sat import SO2_Sat"
   ]
  },
  {
   "cell_type": "markdown",
   "metadata": {
    "deletable": true,
    "editable": true
   },
   "source": [
    "# get volcano locs"
   ]
  },
  {
   "cell_type": "code",
   "execution_count": 6,
   "metadata": {
    "collapsed": false,
    "deletable": true,
    "editable": true
   },
   "outputs": [
    {
     "ename": "SyntaxError",
     "evalue": "invalid syntax (<ipython-input-6-2313de1b7820>, line 3)",
     "output_type": "error",
     "traceback": [
      "\u001b[0;36m  File \u001b[0;32m\"<ipython-input-6-2313de1b7820>\"\u001b[0;36m, line \u001b[0;32m3\u001b[0m\n\u001b[0;31m    \"Turrialba\" : (10.016997, -83.764515)\u001b[0m\n\u001b[0m              ^\u001b[0m\n\u001b[0;31mSyntaxError\u001b[0m\u001b[0;31m:\u001b[0m invalid syntax\n"
     ]
    }
   ],
   "source": [
    "locs = {\n",
    "\"Arenal\" : (10.462964, -84.703694),\n",
    "\"Turrialba\" : (10.016997, -83.764515),\n",
    "\"Santa Ana\" : (13.854698, -89.627554),\n",
    "\"San Miguel\" : (13.433799, -88.268887),\n",
    "\"Fuego de Guatemala\" : (14.474506, -90.880327),\n",
    "\"Santiaguito\" : (14.749341, -91.566770),\n",
    "\"Popocatepetl\" : (19.022154, -98.627748),\n",
    "\"Fuego de Colima\" : (19.512942, -103.617655),\n",
    "\"San Cristobal\" : (12.704431, -87.003621),\n",
    "\"Masaya\" : (11.984259, -86.166345),\n",
    "\"Galeras\" : (1.221699, -77.358468),\n",
    "\"Nevado del Ruiz\" : (4.893614, -75.317858),\n",
    "\"Cotopaxi\" : (-0.683719, -78.436608),\n",
    "\"Tungurahua\" : (-1.470183, -78.444540),\n",
    "\"Nyiragongo\" : (-1.522102, 29.249768),\n",
    "\"Nyamuragira\" : (-1.410324, 29.204375),\n",
    "\"Etna\" : (37.751220, 14.994171),\n",
    "\"Vulcano\" : (38.403679, 14.962679),\n",
    "\"Piton de la Fournaise\" : (-21.245098, 55.715342)\n",
    "}"
   ]
  },
  {
   "cell_type": "markdown",
   "metadata": {
    "deletable": true,
    "editable": true
   },
   "source": [
    "# get so2 vals"
   ]
  },
  {
   "cell_type": "code",
   "execution_count": null,
   "metadata": {
    "collapsed": false,
    "deletable": true,
    "editable": true
   },
   "outputs": [
    {
     "name": "stdout",
     "output_type": "stream",
     "text": [
      "error with date 2012-02-09\n"
     ]
    }
   ],
   "source": [
    "for volc_name in volc_list:\n",
    "    print \"download data for {}\".format(volc_name)\n",
    "    volc = Volcano(volc_name)\n",
    "    so2 = SO2_Sat(volc.loc)\n",
    "    "
   ]
  },
  {
   "cell_type": "code",
   "execution_count": null,
   "metadata": {
    "collapsed": true,
    "deletable": true,
    "editable": true
   },
   "outputs": [],
   "source": []
  },
  {
   "cell_type": "code",
   "execution_count": null,
   "metadata": {
    "collapsed": true,
    "deletable": true,
    "editable": true
   },
   "outputs": [],
   "source": []
  }
 ],
 "metadata": {
  "kernelspec": {
   "display_name": "Python 2",
   "language": "python",
   "name": "python2"
  },
  "language_info": {
   "codemirror_mode": {
    "name": "ipython",
    "version": 2
   },
   "file_extension": ".py",
   "mimetype": "text/x-python",
   "name": "python",
   "nbconvert_exporter": "python",
   "pygments_lexer": "ipython2",
   "version": "2.7.12"
  }
 },
 "nbformat": 4,
 "nbformat_minor": 2
}
