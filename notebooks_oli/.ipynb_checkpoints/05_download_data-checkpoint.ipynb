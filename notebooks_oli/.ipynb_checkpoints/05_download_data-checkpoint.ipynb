{
 "cells": [
  {
   "cell_type": "code",
   "execution_count": 1,
   "metadata": {
    "collapsed": false,
    "deletable": true,
    "editable": true,
    "scrolled": true
   },
   "outputs": [
    {
     "name": "stdout",
     "output_type": "stream",
     "text": [
      "Populating the interactive namespace from numpy and matplotlib\n"
     ]
    }
   ],
   "source": [
    "%load_ext autoreload\n",
    "%autoreload 2\n",
    "\n",
    "import os\n",
    "os.chdir(\"../\")\n",
    "\n",
    "%pylab inline\n",
    "pylab.rcParams['figure.figsize'] = (10, 5)"
   ]
  },
  {
   "cell_type": "code",
   "execution_count": 2,
   "metadata": {
    "collapsed": false,
    "deletable": true,
    "editable": true
   },
   "outputs": [],
   "source": [
    "from data_earthquake import Earthquake\n",
    "from data_so2_sat import SO2_Sat"
   ]
  },
  {
   "cell_type": "markdown",
   "metadata": {
    "deletable": true,
    "editable": true
   },
   "source": [
    "# get volc locs"
   ]
  },
  {
   "cell_type": "code",
   "execution_count": 3,
   "metadata": {
    "collapsed": false,
    "deletable": true,
    "editable": true
   },
   "outputs": [],
   "source": [
    "volc_locs = np.load(\"data_git/volcano_locations.npy\")[()]"
   ]
  },
  {
   "cell_type": "markdown",
   "metadata": {
    "deletable": true,
    "editable": true
   },
   "source": [
    "# get so2 / earthquake data"
   ]
  },
  {
   "cell_type": "code",
   "execution_count": 5,
   "metadata": {
    "collapsed": false
   },
   "outputs": [
    {
     "name": "stdout",
     "output_type": "stream",
     "text": [
      "load events 'data_git/earthquakes/(10.462964, -84.703694)_1.0_1.0.npy' ...\n",
      "loaded 516 events\n"
     ]
    }
   ],
   "source": [
    "loc = volc_locs['Arenal']\n",
    "t_beg = (2012, 1, 1)\n",
    "t_end = (2017, 1, 6)\n",
    "eq = Earthquake(loc, t_beg=t_beg, t_end=t_end)\n",
    "so2 = SO2_Sat(loc, t_beg=t_beg, t_end=t_end)"
   ]
  },
  {
   "cell_type": "code",
   "execution_count": 12,
   "metadata": {
    "collapsed": true
   },
   "outputs": [],
   "source": [
    "eq_dates, eq_freq = eq.get_mean_frequency(time_interval=5)"
   ]
  },
  {
   "cell_type": "code",
   "execution_count": 9,
   "metadata": {
    "collapsed": false
   },
   "outputs": [],
   "source": [
    "so2_dates = so2.dates\n",
    "so2_vals  = so2.so2_timeseq"
   ]
  },
  {
   "cell_type": "code",
   "execution_count": 19,
   "metadata": {
    "collapsed": false
   },
   "outputs": [
    {
     "data": {
      "text/plain": [
       "1833"
      ]
     },
     "execution_count": 19,
     "metadata": {},
     "output_type": "execute_result"
    }
   ],
   "source": [
    "print len(so2_dates)\n",
    "print so2_dates[0]\n",
    "print so2_dates[-1]"
   ]
  },
  {
   "cell_type": "code",
   "execution_count": 20,
   "metadata": {
    "collapsed": false
   },
   "outputs": [
    {
     "data": {
      "text/plain": [
       "1832"
      ]
     },
     "execution_count": 20,
     "metadata": {},
     "output_type": "execute_result"
    }
   ],
   "source": [
    "print len(eq_dates)\n",
    "print eq_dates[0]\n",
    "print eq_dates[-1]"
   ]
  },
  {
   "cell_type": "code",
   "execution_count": 16,
   "metadata": {
    "collapsed": false
   },
   "outputs": [
    {
     "data": {
      "text/plain": [
       "2"
      ]
     },
     "execution_count": 16,
     "metadata": {},
     "output_type": "execute_result"
    }
   ],
   "source": [
    "a = datetime.date(2015,1,1)\n",
    "b = datetime.date(2015,1,3)\n",
    "c = (b-a).days\n",
    "c"
   ]
  },
  {
   "cell_type": "code",
   "execution_count": null,
   "metadata": {
    "collapsed": true
   },
   "outputs": [],
   "source": []
  },
  {
   "cell_type": "code",
   "execution_count": 45,
   "metadata": {
    "collapsed": false,
    "deletable": true,
    "editable": true,
    "scrolled": true
   },
   "outputs": [
    {
     "name": "stdout",
     "output_type": "stream",
     "text": [
      "\t\n",
      "---------------------------\n",
      "VOLCANO :  San Miguel\n",
      "---------------------------\n",
      "load events 'data/earthquakes/(13.433799, -88.268887)_1.0_1.0.npy' ...\n",
      "loaded 1630 events\n",
      "\t\n",
      "---------------------------\n",
      "VOLCANO :  Turrialba\n",
      "---------------------------\n",
      "load events 'data/earthquakes/(10.016997, -83.764515)_1.0_1.0.npy' ...\n",
      "loaded 427 events\n",
      "\t\n",
      "---------------------------\n",
      "VOLCANO :  Arenal\n",
      "---------------------------\n",
      "load events 'data/earthquakes/(10.462964, -84.703694)_1.0_1.0.npy' ...\n",
      "loaded 516 events\n",
      "\t\n",
      "---------------------------\n",
      "VOLCANO :  Galeras\n",
      "---------------------------\n",
      "load events 'data/earthquakes/(1.221699, -77.358468)_1.0_1.0.npy' ...\n",
      "loaded 300 events\n",
      "\t\n",
      "---------------------------\n",
      "VOLCANO :  Nevado del Ruiz\n",
      "---------------------------\n",
      "load events 'data/earthquakes/(4.893614, -75.317858)_1.0_1.0.npy' ...\n",
      "loaded 1639 events\n",
      "\t\n",
      "---------------------------\n",
      "VOLCANO :  Popocatepetl\n",
      "---------------------------\n",
      "load events 'data/earthquakes/(19.022154, -98.627748)_1.0_1.0.npy' ...\n",
      "loaded 100 events\n",
      "\t\n",
      "---------------------------\n",
      "VOLCANO :  Cotopaxi\n",
      "---------------------------\n",
      "load events 'data/earthquakes/(-0.683719, -78.436608)_1.0_1.0.npy' ...\n",
      "loaded 96 events\n",
      "\t\n",
      "---------------------------\n",
      "VOLCANO :  Fuego de Guatemala\n",
      "---------------------------\n",
      "load events 'data/earthquakes/(14.474506, -90.880327)_1.0_1.0.npy' ...\n",
      "loaded 1145 events\n",
      "\t\n",
      "---------------------------\n",
      "VOLCANO :  Piton de la Fournaise\n",
      "---------------------------\n",
      "load events 'data/earthquakes/(-21.245098, 55.715342)_1.0_1.0.npy' ...\n",
      "loaded 0 events\n",
      "\t\n",
      "---------------------------\n",
      "VOLCANO :  Santa Ana\n",
      "---------------------------\n",
      "load events 'data/earthquakes/(13.854698, -89.627554)_1.0_1.0.npy' ...\n",
      "loaded 1423 events\n",
      "\t\n",
      "---------------------------\n",
      "VOLCANO :  Tungurahua\n",
      "---------------------------\n",
      "load events 'data/earthquakes/(-1.470183, -78.44454)_1.0_1.0.npy' ...\n",
      "loaded 120 events\n",
      "\t\n",
      "---------------------------\n",
      "VOLCANO :  Fuego de Colima\n",
      "---------------------------\n",
      "load events 'data/earthquakes/(19.512942, -103.617655)_1.0_1.0.npy' ...\n",
      "loaded 249 events\n",
      "\t\n",
      "---------------------------\n",
      "VOLCANO :  San Cristobal\n",
      "---------------------------\n",
      "load events 'data/earthquakes/(12.704431, -87.003621)_1.0_1.0.npy' ...\n",
      "loaded 933 events\n",
      "\t\n",
      "---------------------------\n",
      "VOLCANO :  Vulcano\n",
      "---------------------------\n",
      "load events 'data/earthquakes/(38.403679, 14.962679)_1.0_1.0.npy' ...\n",
      "loaded 3245 events\n",
      "\t\n",
      "---------------------------\n",
      "VOLCANO :  Etna\n",
      "---------------------------\n",
      "load events 'data/earthquakes/(37.75122, 14.994171)_1.0_1.0.npy' ...\n",
      "loaded 3413 events\n",
      "\t\n",
      "---------------------------\n",
      "VOLCANO :  Nyamuragira\n",
      "---------------------------\n",
      "load events 'data/earthquakes/(-1.410324, 29.204375)_1.0_1.0.npy' ...\n",
      "loaded 17 events\n",
      "\t\n",
      "---------------------------\n",
      "VOLCANO :  Masaya\n",
      "---------------------------\n",
      "load events 'data/earthquakes/(11.984259, -86.166345)_1.0_1.0.npy' ...\n",
      "loaded 557 events\n",
      "\t\n",
      "---------------------------\n",
      "VOLCANO :  Nyiragongo\n",
      "---------------------------\n",
      "load events 'data/earthquakes/(-1.522102, 29.249768)_1.0_1.0.npy' ...\n",
      "loaded 16 events\n",
      "\t\n",
      "---------------------------\n",
      "VOLCANO :  Santiaguito\n",
      "---------------------------\n",
      "load events 'data/earthquakes/(14.749341, -91.56677)_1.0_1.0.npy' ...\n",
      "loaded 1839 events\n"
     ]
    }
   ],
   "source": [
    "PATH = \"data_git/eq_so2_timeseries\"\n",
    "\n",
    "for volc in volc_locs:\n",
    "    print \"\\t\"\n",
    "    print \"---------------------------\"\n",
    "    print \"VOLCANO : \", volc\n",
    "    print \"---------------------------\"\n",
    "\n",
    "    t_beg = (2012, 1, 1)\n",
    "    t_end = (2017, 1, 6)\n",
    "    loc = volc_locs[volc]\n",
    "    eq = Earthquake(loc, t_beg=t_beg, t_end=t_end)\n",
    "    so2 = SO2_Sat(loc, t_beg=t_beg, t_end=t_end)\n",
    "\n",
    "    # eq\n",
    "    eq_dates = eq.dates\n",
    "    eq_mag = eq.mags\n",
    "    eq_dates_5, freq_5 = eq.get_mean_frequency(time_interval=5)\n",
    "    eq_dates_11, freq_11 = eq.get_mean_frequency(time_interval=11)\n",
    "    eq_dict = {\"date\" : eq_dates,\n",
    "               \"mag\"  : eq_mag}\n",
    "    ef_dict_5 = {\"date\" : eq_dates_5,\n",
    "                 \"freq\" : freq_5}\n",
    "    ef_dict_11 = {\"date\" : eq_dates_11,\n",
    "                  \"freq\" : freq_11}\n",
    "\n",
    "    # so2\n",
    "    so2_val = so2.so2_timeseq['SO2_TRL']\n",
    "    so2_dates = so2.dates\n",
    "    so2_dict = {\"date\" : so2_dates, \"so2\" : so2_val}\n",
    "\n",
    "    # save \n",
    "    os.mkdir(os.path.join(PATH, volc))\n",
    "    np.save(os.path.join(PATH, volc, \"so2.npy\"), so2_dict)\n",
    "    np.save(os.path.join(PATH, volc, \"eq.npy\"), eq_dict)\n",
    "    np.save(os.path.join(PATH, volc, \"eq_freq_5.npy\"), ef_dict_5)\n",
    "    np.save(os.path.join(PATH, volc, \"eq_freq_11.npy\"), ef_dict_11)"
   ]
  },
  {
   "cell_type": "markdown",
   "metadata": {
    "deletable": true,
    "editable": true
   },
   "source": [
    "# load data"
   ]
  },
  {
   "cell_type": "code",
   "execution_count": 47,
   "metadata": {
    "collapsed": true,
    "deletable": true,
    "editable": true
   },
   "outputs": [],
   "source": [
    "path = os.path.join(\"data_git\",\"eq_so2_timeseries\")\n",
    "volcs = os.listdir(path)\n",
    "volc_path = os.path.join(path, volcs[0])\n",
    "\n",
    "# load earthquake frequency\n",
    "fname_eq_freq = os.path.join(volc_path, \"eq_freq_5.npy\")\n",
    "eq_freq = np.load(fname_eq_freq)[()]\n",
    "\n",
    "# load so2 val\n",
    "fname_so2 = os.path.join(volc_path, \"so2.npy\")\n",
    "so2 = np.load(fname_so2)[()]"
   ]
  },
  {
   "cell_type": "code",
   "execution_count": 48,
   "metadata": {
    "collapsed": false,
    "deletable": true,
    "editable": true
   },
   "outputs": [],
   "source": [
    "so2['date']\n",
    "so2['so2']\n",
    "eq_freq['date']\n",
    "eq_freq['freq']"
   ]
  },
  {
   "cell_type": "code",
   "execution_count": null,
   "metadata": {
    "collapsed": true,
    "deletable": true,
    "editable": true
   },
   "outputs": [],
   "source": []
  }
 ],
 "metadata": {
  "kernelspec": {
   "display_name": "Python 2",
   "language": "python",
   "name": "python2"
  },
  "language_info": {
   "codemirror_mode": {
    "name": "ipython",
    "version": 2
   },
   "file_extension": ".py",
   "mimetype": "text/x-python",
   "name": "python",
   "nbconvert_exporter": "python",
   "pygments_lexer": "ipython2",
   "version": "2.7.12"
  }
 },
 "nbformat": 4,
 "nbformat_minor": 2
}
