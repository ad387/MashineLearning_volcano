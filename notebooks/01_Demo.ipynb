{
 "cells": [
  {
   "cell_type": "code",
   "execution_count": 5,
   "metadata": {
    "collapsed": true,
    "deletable": true,
    "editable": true
   },
   "outputs": [],
   "source": [
    "from obspy.clients.fdsn import Client"
   ]
  },
  {
   "cell_type": "markdown",
   "metadata": {
    "deletable": true,
    "editable": true
   },
   "source": [
    "# define places of interest (around active vulcanos)\n",
    "\n",
    "define dictionary of vulcanos and their location.\n",
    "\n",
    "Source: https://simple.wikipedia.org/wiki/List_of_active_volcanos"
   ]
  },
  {
   "cell_type": "code",
   "execution_count": 6,
   "metadata": {
    "collapsed": true,
    "deletable": true,
    "editable": true
   },
   "outputs": [],
   "source": [
    "active_vulcanos = {\"Avachinsky-Koryaksky\" : (53.254715, 158.833002),\n",
    "                   \"Barren Island\" : (12.284256, 93.862132),\n",
    "                   \"Chimborazo\" : (-1.469503, -78.815373),\n",
    "                   \"Cotopaxi\" : (-0.683798, -78.436667),\n",
    "                   \"Galeras\" : (1.221475, -77.358752),\n",
    "                   \"Glacier\" : (48.935137, -121.876098),\n",
    "                   \"Haleakala\" : (20.710123, -156.253408),\n",
    "                   \"Irazu\" : (9.983291, -83.850361),\n",
    "                   \"Kelut\" : (-7.935651, 112.313128),\n",
    "                   \"Kilauea\" : (19.405660, -155.280558),                # active\n",
    "                   \"Krakatoa\" : (-6.102534, 105.422874),\n",
    "                   \"Lō'ihi\" : (18.919568, -155.269928),\n",
    "                   \"Mount Adams\" : (46.205674, -121.490640),\n",
    "                   \"Mount Baker\" : (48.776371, -121.815030),\n",
    "                   \"Mount Fuji\" : (35.362437, 138.730903),\n",
    "                   \"Mount Hood\" : (45.374852, -121.695184),\n",
    "                   \"Mount Lassen\" : (40.488133, -121.504775),\n",
    "                   \"Mount Mayon\" : (13.254236, 123.685229),            # active\n",
    "                   \"Mount Merapi\" : (-7.540580, 110.445913),           # not sooo active\n",
    "                   \"Mount Olympus\" : (),\n",
    "                   \"Mount Pinatubo\" : (),\n",
    "                   \"Mount Rainier\" : (),\n",
    "                   \"Mount Slamet\" : (),\n",
    "                   \"Mount St Helens\" : (),\n",
    "                   \"Mauna Kea\" : (),\n",
    "                   \"Mauna Hualalai\" : (),\n",
    "                   \"Mauna Loa\" : (),\n",
    "                   \"Nevado del Ruiz\" : (),\n",
    "                   \"Pacaya\" : (),\n",
    "                   \"Paricutin\" : (),\n",
    "                   \"Popocatepetl\" : (),\n",
    "                   \"Redoubt\" : (),\n",
    "                   \"Sakurajima\" : (),\n",
    "                   \"Sinabung\" : (),\n",
    "                   \"Taal\" : (),\n",
    "                   \"Tambora\" : (),\n",
    "                   \"Ulawun\" : (),\n",
    "                   \"Mount Unzen\" : ()}"
   ]
  },
  {
   "cell_type": "code",
   "execution_count": null,
   "metadata": {
    "collapsed": true
   },
   "outputs": [],
   "source": []
  },
  {
   "cell_type": "code",
   "execution_count": 7,
   "metadata": {
    "collapsed": false,
    "deletable": true,
    "editable": true
   },
   "outputs": [],
   "source": [
    "def get_events(loc, area_size = 1, min_magnitude = 1):\n",
    "    \"\"\"\n",
    "    get erthquake events around a specific location\n",
    "    \"\"\"\n",
    "    \n",
    "    # init client\n",
    "    client = Client(\"IRIS\")\n",
    "    \n",
    "    # load data\n",
    "    events = client.get_events(minmagnitude = min_magnitude, \n",
    "                               minlongitude = loc[1] - area_size, \n",
    "                               maxlongitude = loc[1] + area_size,\n",
    "                               minlatitude  = loc[0] - area_size,\n",
    "                               maxlatitude  = loc[0] + area_size)\n",
    "    \n",
    "    return events"
   ]
  },
  {
   "cell_type": "code",
   "execution_count": 12,
   "metadata": {
    "collapsed": true,
    "deletable": true,
    "editable": true
   },
   "outputs": [],
   "source": [
    "def get_event_mag(event):\n",
    "    \"\"\"\n",
    "    get the earthquake magnitude of an event\n",
    "    \"\"\"\n",
    "    return event.magnitudes[0].mag\n",
    "    \n",
    "def get_event_date(event):\n",
    "    \"\"\"\n",
    "    get the earthquake date of an event\n",
    "    \"\"\"\n",
    "    t = event.origins[0].time\n",
    "    year = t.year\n",
    "    month = t.month\n",
    "    day = t.day\n",
    "    return (year, month, day)"
   ]
  },
  {
   "cell_type": "markdown",
   "metadata": {
    "collapsed": true,
    "deletable": true,
    "editable": true
   },
   "source": [
    "# get earthquake events around a specific vulcano"
   ]
  },
  {
   "cell_type": "code",
   "execution_count": 13,
   "metadata": {
    "collapsed": false,
    "deletable": true,
    "editable": true
   },
   "outputs": [],
   "source": [
    "loc = (-0.683798, -78.436667)   # location of Cotopaxi\n",
    "area_size = 1\n",
    "min_magnitude = 1\n",
    "\n",
    "events = get_events(loc, area_size = area_size, min_magnitude = min_magnitude)"
   ]
  },
  {
   "cell_type": "code",
   "execution_count": 14,
   "metadata": {
    "collapsed": false,
    "deletable": true,
    "editable": true
   },
   "outputs": [
    {
     "name": "stdout",
     "output_type": "stream",
     "text": [
      "1936 events where found\n"
     ]
    }
   ],
   "source": [
    "print \"{} events where found\".format(len(events))"
   ]
  },
  {
   "cell_type": "markdown",
   "metadata": {
    "deletable": true,
    "editable": true
   },
   "source": [
    "# get information about events"
   ]
  },
  {
   "cell_type": "code",
   "execution_count": 15,
   "metadata": {
    "collapsed": false,
    "deletable": true,
    "editable": true
   },
   "outputs": [
    {
     "name": "stdout",
     "output_type": "stream",
     "text": [
      "The first event happend at the date (2016, 9, 27)\n",
      "The first event had a magnitude of 2.9\n"
     ]
    }
   ],
   "source": [
    "print \"The first event happend at the date {}\".format(get_event_date(events[0]))\n",
    "print \"The first event had a magnitude of {}\".format(get_event_mag(events[0]))"
   ]
  },
  {
   "cell_type": "code",
   "execution_count": null,
   "metadata": {
    "collapsed": true,
    "deletable": true,
    "editable": true
   },
   "outputs": [],
   "source": []
  }
 ],
 "metadata": {
  "kernelspec": {
   "display_name": "Python 2",
   "language": "python",
   "name": "python2"
  },
  "language_info": {
   "codemirror_mode": {
    "name": "ipython",
    "version": 2
   },
   "file_extension": ".py",
   "mimetype": "text/x-python",
   "name": "python",
   "nbconvert_exporter": "python",
   "pygments_lexer": "ipython2",
   "version": "2.7.12"
  }
 },
 "nbformat": 4,
 "nbformat_minor": 2
}
