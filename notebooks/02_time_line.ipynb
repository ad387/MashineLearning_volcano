{
 "cells": [
  {
   "cell_type": "code",
   "execution_count": 1,
   "metadata": {
    "collapsed": false,
    "deletable": true,
    "editable": true
   },
   "outputs": [
    {
     "name": "stdout",
     "output_type": "stream",
     "text": [
      "Populating the interactive namespace from numpy and matplotlib\n"
     ]
    }
   ],
   "source": [
    "%load_ext autoreload\n",
    "%autoreload 2\n",
    "\n",
    "import os\n",
    "os.chdir(\"../\")\n",
    "\n",
    "%pylab inline\n",
    "pylab.rcParams['figure.figsize'] = (10, 5)"
   ]
  },
  {
   "cell_type": "code",
   "execution_count": 10,
   "metadata": {
    "collapsed": true,
    "deletable": true,
    "editable": true
   },
   "outputs": [],
   "source": [
    "import visualize\n",
    "\n",
    "import matplotlib.pylab as plt\n",
    "import datetime\n",
    "import numpy as np\n",
    "from obspy.clients.fdsn import Client"
   ]
  },
  {
   "cell_type": "code",
   "execution_count": 16,
   "metadata": {
    "collapsed": false,
    "deletable": true,
    "editable": true
   },
   "outputs": [],
   "source": [
    "def get_events(loc, area_size = 1, min_magnitude = 1):\n",
    "    \"\"\"\n",
    "    get erthquake events around a specific location\n",
    "    \"\"\"\n",
    "    \n",
    "    # init client\n",
    "    client = Client(\"IRIS\")\n",
    "    \n",
    "    # load data\n",
    "    events = client.get_events(minmagnitude = min_magnitude, \n",
    "                               minlongitude = loc[1] - area_size, \n",
    "                               maxlongitude = loc[1] + area_size,\n",
    "                               minlatitude  = loc[0] - area_size,\n",
    "                               maxlatitude  = loc[0] + area_size)\n",
    "    \n",
    "    return events"
   ]
  },
  {
   "cell_type": "code",
   "execution_count": 17,
   "metadata": {
    "collapsed": true,
    "deletable": true,
    "editable": true
   },
   "outputs": [],
   "source": [
    "def get_event_mag(event):\n",
    "    \"\"\"\n",
    "    get the earthquake magnitude of an event\n",
    "    \"\"\"\n",
    "    return event.magnitudes[0].mag\n",
    "    \n",
    "def get_event_date(event):\n",
    "    \"\"\"\n",
    "    get the earthquake date of an event\n",
    "    \"\"\"\n",
    "    t = event.origins[0].time\n",
    "    year = t.year\n",
    "    month = t.month\n",
    "    day = t.day\n",
    "    return (year, month, day)"
   ]
  },
  {
   "cell_type": "code",
   "execution_count": 18,
   "metadata": {
    "collapsed": true,
    "deletable": true,
    "editable": true
   },
   "outputs": [],
   "source": [
    "def get_event_timeline_dict(events):\n",
    "    event_dict = {}\n",
    "    for event in events:\n",
    "        event_dict[get_event_date(event)] = get_event_mag(event)\n",
    "    return event_dict"
   ]
  },
  {
   "cell_type": "code",
   "execution_count": 19,
   "metadata": {
    "collapsed": true,
    "deletable": true,
    "editable": true
   },
   "outputs": [],
   "source": [
    "def get_event_timeline_numpy(events):\n",
    "    event_list = []\n",
    "    for event in events:\n",
    "        event_list.append([get_event_date(event), get_event_mag(event)])\n",
    "    return np.array(event_list)"
   ]
  },
  {
   "cell_type": "markdown",
   "metadata": {
    "collapsed": true,
    "deletable": true,
    "editable": true
   },
   "source": [
    "# get earthquake events around a specific vulcano"
   ]
  },
  {
   "cell_type": "code",
   "execution_count": 20,
   "metadata": {
    "collapsed": false,
    "deletable": true,
    "editable": true
   },
   "outputs": [],
   "source": [
    "loc = (-1.470457, -78.448947)   # location of Cotopaxi\n",
    "area_size = 1\n",
    "min_magnitude = 1\n",
    "\n",
    "events = get_events(loc, area_size = area_size, min_magnitude = min_magnitude)"
   ]
  },
  {
   "cell_type": "code",
   "execution_count": 21,
   "metadata": {
    "collapsed": false,
    "deletable": true,
    "editable": true
   },
   "outputs": [
    {
     "name": "stdout",
     "output_type": "stream",
     "text": [
      "2228 events where found\n"
     ]
    }
   ],
   "source": [
    "print \"{} events where found\".format(len(events))"
   ]
  },
  {
   "cell_type": "markdown",
   "metadata": {
    "deletable": true,
    "editable": true
   },
   "source": [
    "# get_event_timeline"
   ]
  },
  {
   "cell_type": "code",
   "execution_count": 22,
   "metadata": {
    "collapsed": false,
    "deletable": true,
    "editable": true
   },
   "outputs": [],
   "source": [
    "timeline = get_event_timeline_numpy(events)"
   ]
  },
  {
   "cell_type": "code",
   "execution_count": 23,
   "metadata": {
    "collapsed": false,
    "deletable": true,
    "editable": true
   },
   "outputs": [
    {
     "data": {
      "text/plain": [
       "array([[(2017, 4, 25), 4.2],\n",
       "       [(2017, 3, 30), 4.3],\n",
       "       [(2016, 11, 19), 4.2],\n",
       "       ..., \n",
       "       [(1964, 1, 23), 3.7],\n",
       "       [(1964, 1, 3), 4.5],\n",
       "       [(1963, 5, 10), 6.8]], dtype=object)"
      ]
     },
     "execution_count": 23,
     "metadata": {},
     "output_type": "execute_result"
    }
   ],
   "source": [
    "timeline"
   ]
  },
  {
   "cell_type": "code",
   "execution_count": 13,
   "metadata": {
    "collapsed": true,
    "deletable": true,
    "editable": true
   },
   "outputs": [],
   "source": [
    "np.save(\"data/events/tungurahua.npy\", timeline)"
   ]
  },
  {
   "cell_type": "code",
   "execution_count": null,
   "metadata": {
    "collapsed": true,
    "deletable": true,
    "editable": true
   },
   "outputs": [],
   "source": []
  },
  {
   "cell_type": "code",
   "execution_count": null,
   "metadata": {
    "collapsed": true,
    "deletable": true,
    "editable": true
   },
   "outputs": [],
   "source": []
  },
  {
   "cell_type": "code",
   "execution_count": 3,
   "metadata": {
    "collapsed": false,
    "deletable": true,
    "editable": true
   },
   "outputs": [],
   "source": [
    "timeline = np.load(\"data/events/tungurahua.npy\")"
   ]
  },
  {
   "cell_type": "code",
   "execution_count": 5,
   "metadata": {
    "collapsed": false,
    "deletable": true,
    "editable": true
   },
   "outputs": [
    {
     "data": {
      "text/plain": [
       "(2228, 2)"
      ]
     },
     "execution_count": 5,
     "metadata": {},
     "output_type": "execute_result"
    }
   ],
   "source": [
    "print timeline.shape"
   ]
  },
  {
   "cell_type": "code",
   "execution_count": 19,
   "metadata": {
    "collapsed": false,
    "deletable": true,
    "editable": true,
    "scrolled": false
   },
   "outputs": [
    {
     "data": {
      "image/png": "[encoded data removed]",
      "text/plain": [
       "<matplotlib.figure.Figure at 0x7f81e8270990>"
      ]
     },
     "metadata": {},
     "output_type": "display_data"
    }
   ],
   "source": [
    "timeline = np.load(\"data/events/tungurahua.npy\")\n",
    "\n",
    "print timeline.shape\n",
    "\n",
    "start_date = datetime.date(2015,1,1)\n",
    "end_date   = datetime.date(2016,1,1)\n",
    "\n",
    "plt.figure()\n",
    "\n",
    "for event in timeline:\n",
    "    \n",
    "    date = event[0]\n",
    "    date = datetime.date(*date)\n",
    "    mag  = event[1]\n",
    "    \n",
    "    if start_date < date < end_date:\n",
    "        plt.scatter([date], [mag])\n",
    "        \n",
    "    plt.ylabel(\"Magnitude\")\n",
    "    plt.xlabel(\"Date\")\n",
    "        \n",
    "plt.show()"
   ]
  },
  {
   "cell_type": "code",
   "execution_count": null,
   "metadata": {
    "collapsed": true,
    "deletable": true,
    "editable": true
   },
   "outputs": [],
   "source": []
  }
 ],
 "metadata": {
  "kernelspec": {
   "display_name": "Python 2",
   "language": "python",
   "name": "python2"
  },
  "language_info": {
   "codemirror_mode": {
    "name": "ipython",
    "version": 2
   },
   "file_extension": ".py",
   "mimetype": "text/x-python",
   "name": "python",
   "nbconvert_exporter": "python",
   "pygments_lexer": "ipython2",
   "version": "2.7.12"
  }
 },
 "nbformat": 4,
 "nbformat_minor": 2
}
